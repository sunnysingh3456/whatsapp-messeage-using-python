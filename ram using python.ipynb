{
 "cells": [
  {
   "cell_type": "code",
   "execution_count": 1,
   "id": "a31dd33b-8d23-4d6d-a303-5dd1dd0dae91",
   "metadata": {},
   "outputs": [
    {
     "name": "stdout",
     "output_type": "stream",
     "text": [
      "Requirement already satisfied: psutil in c:\\users\\singh\\anaconda3\\lib\\site-packages (5.9.0)Note: you may need to restart the kernel to use updated packages.\n",
      "\n"
     ]
    }
   ],
   "source": [
    "pip install psutil"
   ]
  },
  {
   "cell_type": "code",
   "execution_count": 2,
   "id": "672b08c4-3ab2-4c75-9084-bc3bdbee5f66",
   "metadata": {},
   "outputs": [
    {
     "name": "stdout",
     "output_type": "stream",
     "text": [
      "Total RAM: 7.85 GB\n",
      "Available RAM: 2.28 GB\n",
      "Used RAM: 5.57 GB\n",
      "RAM Usage percentage: 71.0%\n"
     ]
    }
   ],
   "source": [
    "import psutil\n",
    "\n",
    "memory = psutil.virtual_memory()\n",
    "\n",
    "print(f\"Total RAM: {memory.total / (1024 ** 3):.2f} GB\")\n",
    "print(f\"Available RAM: {memory.available / (1024 ** 3):.2f} GB\")\n",
    "print(f\"Used RAM: {memory.used / (1024 ** 3):.2f} GB\")\n",
    "print(f\"RAM Usage percentage: {memory.percent}%\")\n",
    "\n"
   ]
  },
  {
   "cell_type": "code",
   "execution_count": null,
   "id": "9ecb9f0f-0f1a-4278-a51b-308154310366",
   "metadata": {},
   "outputs": [],
   "source": []
  }
 ],
 "metadata": {
  "kernelspec": {
   "display_name": "Python [conda env:base] *",
   "language": "python",
   "name": "conda-base-py"
  },
  "language_info": {
   "codemirror_mode": {
    "name": "ipython",
    "version": 3
   },
   "file_extension": ".py",
   "mimetype": "text/x-python",
   "name": "python",
   "nbconvert_exporter": "python",
   "pygments_lexer": "ipython3",
   "version": "3.12.7"
  }
 },
 "nbformat": 4,
 "nbformat_minor": 5
}
